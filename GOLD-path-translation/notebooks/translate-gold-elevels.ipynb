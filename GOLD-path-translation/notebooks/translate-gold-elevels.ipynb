{
 "cells": [
  {
   "cell_type": "code",
   "execution_count": 109,
   "metadata": {},
   "outputs": [],
   "source": [
    "import pandas as pds\n",
    "import json\n",
    "from rdflib import Graph, ConjunctiveGraph, RDFS, RDF, OWL, URIRef, Literal\n",
    "from hashlib import md5\n",
    "from pandasql import sqldf\n",
    "\n",
    "def pysqldf(q):\n",
    "    return sqldf(q, globals())"
   ]
  },
  {
   "cell_type": "markdown",
   "metadata": {},
   "source": [
    "## Build dataframe containing enviromental level data values"
   ]
  },
  {
   "cell_type": "code",
   "execution_count": 2,
   "metadata": {},
   "outputs": [
    {
     "name": "stderr",
     "output_type": "stream",
     "text": [
      "/Users/wdduncan/opt/anaconda3/lib/python3.7/site-packages/IPython/core/interactiveshell.py:3058: DtypeWarning: Columns (13,14,16,18,19,23,26,27,28,29,30,34,35,36,37,39,41,42,43,44,45,52,57,62,70,72,73,76,77,78,79,86,98,99,100,103,104,105,106,111,119,124,133,134,135,142,144,146,149,165,191,208,229,233,252,253,254) have mixed types. Specify dtype option on import or set low_memory=False.\n",
      "  interactivity=interactivity, compiler=compiler, result=result)\n"
     ]
    }
   ],
   "source": [
    "all_data_df = pds.read_csv(\"data/Biosample_all.tsv.gz\", sep=\"\\t\")"
   ]
  },
  {
   "cell_type": "markdown",
   "metadata": {},
   "source": [
    "## Normalize column names to lower case and trim/strip spaces"
   ]
  },
  {
   "cell_type": "code",
   "execution_count": 3,
   "metadata": {},
   "outputs": [],
   "source": [
    "clean_columns = [c.lower().strip() for c in all_data_df.columns]\n",
    "# clean_columns"
   ]
  },
  {
   "cell_type": "code",
   "execution_count": 4,
   "metadata": {},
   "outputs": [],
   "source": [
    "all_data_df.columns = clean_columns"
   ]
  },
  {
   "cell_type": "markdown",
   "metadata": {},
   "source": [
    "## Create subset that contains just the GOLD elevels data"
   ]
  },
  {
   "cell_type": "code",
   "execution_count": 5,
   "metadata": {},
   "outputs": [],
   "source": [
    "gold_elevels = ['ecosystem', 'ecosystem_category', 'ecosystem_type', 'ecosystem_subtype', 'specific_ecosystem']\n",
    "gold_elevelsdf = all_data_df[gold_elevels]"
   ]
  },
  {
   "cell_type": "markdown",
   "metadata": {},
   "source": [
    "### Clean data: \n",
    "* replace with nan with empyt string\n",
    "* make all values lowercase \n",
    "* trim spaces"
   ]
  },
  {
   "cell_type": "code",
   "execution_count": 6,
   "metadata": {},
   "outputs": [
    {
     "name": "stderr",
     "output_type": "stream",
     "text": [
      "/Users/wdduncan/opt/anaconda3/lib/python3.7/site-packages/pandas/core/frame.py:4244: SettingWithCopyWarning: \n",
      "A value is trying to be set on a copy of a slice from a DataFrame\n",
      "\n",
      "See the caveats in the documentation: http://pandas.pydata.org/pandas-docs/stable/user_guide/indexing.html#returning-a-view-versus-a-copy\n",
      "  **kwargs\n"
     ]
    },
    {
     "data": {
      "text/html": [
       "<div>\n",
       "<style scoped>\n",
       "    .dataframe tbody tr th:only-of-type {\n",
       "        vertical-align: middle;\n",
       "    }\n",
       "\n",
       "    .dataframe tbody tr th {\n",
       "        vertical-align: top;\n",
       "    }\n",
       "\n",
       "    .dataframe thead th {\n",
       "        text-align: right;\n",
       "    }\n",
       "</style>\n",
       "<table border=\"1\" class=\"dataframe\">\n",
       "  <thead>\n",
       "    <tr style=\"text-align: right;\">\n",
       "      <th></th>\n",
       "      <th>ecosystem</th>\n",
       "      <th>ecosystem_category</th>\n",
       "      <th>ecosystem_type</th>\n",
       "      <th>ecosystem_subtype</th>\n",
       "      <th>specific_ecosystem</th>\n",
       "    </tr>\n",
       "  </thead>\n",
       "  <tbody>\n",
       "    <tr>\n",
       "      <td>0</td>\n",
       "      <td>host-associated</td>\n",
       "      <td>plants</td>\n",
       "      <td>phyllosphere</td>\n",
       "      <td>caulosphere</td>\n",
       "      <td></td>\n",
       "    </tr>\n",
       "    <tr>\n",
       "      <td>1</td>\n",
       "      <td>engineered</td>\n",
       "      <td>food production</td>\n",
       "      <td>dairy products</td>\n",
       "      <td></td>\n",
       "      <td></td>\n",
       "    </tr>\n",
       "    <tr>\n",
       "      <td>2</td>\n",
       "      <td>engineered</td>\n",
       "      <td>food production</td>\n",
       "      <td>dairy products</td>\n",
       "      <td></td>\n",
       "      <td></td>\n",
       "    </tr>\n",
       "    <tr>\n",
       "      <td>3</td>\n",
       "      <td>engineered</td>\n",
       "      <td>food production</td>\n",
       "      <td>dairy products</td>\n",
       "      <td></td>\n",
       "      <td></td>\n",
       "    </tr>\n",
       "    <tr>\n",
       "      <td>4</td>\n",
       "      <td>engineered</td>\n",
       "      <td>food production</td>\n",
       "      <td>dairy products</td>\n",
       "      <td></td>\n",
       "      <td></td>\n",
       "    </tr>\n",
       "  </tbody>\n",
       "</table>\n",
       "</div>"
      ],
      "text/plain": [
       "         ecosystem ecosystem_category  ecosystem_type ecosystem_subtype  \\\n",
       "0  host-associated             plants    phyllosphere       caulosphere   \n",
       "1       engineered    food production  dairy products                     \n",
       "2       engineered    food production  dairy products                     \n",
       "3       engineered    food production  dairy products                     \n",
       "4       engineered    food production  dairy products                     \n",
       "\n",
       "  specific_ecosystem  \n",
       "0                     \n",
       "1                     \n",
       "2                     \n",
       "3                     \n",
       "4                     "
      ]
     },
     "execution_count": 6,
     "metadata": {},
     "output_type": "execute_result"
    }
   ],
   "source": [
    "gold_elevelsdf.fillna(\"\", inplace=True)\n",
    "gold_elevelsdf = gold_elevelsdf.applymap(lambda x: x.lower().strip())    \n",
    "gold_elevelsdf.head()"
   ]
  },
  {
   "cell_type": "markdown",
   "metadata": {},
   "source": [
    "## Build dataframe of unique label paths and their checksums\n",
    "#### For example: 'enviromental > aquatic > freshwater > sediment'"
   ]
  },
  {
   "cell_type": "code",
   "execution_count": 7,
   "metadata": {},
   "outputs": [],
   "source": [
    "## helper functions for creating label path, hash, and iri\n",
    "def make_label_path(row, include_missing=False):\n",
    "    path_list = list(row)\n",
    "    temp = [e for e in path_list if e != \"\"] # remove all empty strings\n",
    "    if len(temp) > 0:\n",
    "        if include_missing:\n",
    "            ## if the value in the list an empty string (e.g., ['host-associated', 'plants', 'endosphere', ''])\n",
    "            ## this will put an \" > \" it (e.g., host-associated > plants > endosphere >)\n",
    "            return \" > \".join(path_list)\n",
    "        else:\n",
    "            ## this only retuns a path devoid of empty string\n",
    "            ## e.g, ['host-associated', 'plants', 'endosphere', ''] returns host-associated > plants > endosphere\n",
    "            return \" > \".join(temp)\n",
    "    else:\n",
    "        return \"\"\n",
    "\n",
    "\n",
    "def make_parent_label_path(label_path):\n",
    "    path_list = label_path.split(\" > \")\n",
    "    if len(path_list) > 1:\n",
    "        temp = path_list[0:-1]\n",
    "        return \" > \".join(temp)\n",
    "    else:\n",
    "        return \"\"\n",
    "\n",
    "\n",
    "def make_row_list(row, subset_list=[]):\n",
    "    if len(subset_list) > 0:  # only get values in subset list\n",
    "        row_list = [str(v) for k,v in row.to_dict().items() \n",
    "                           if k in subset_list]\n",
    "    else:\n",
    "        row_list = [str(e) for e in list(row)]\n",
    "        \n",
    "    return row_list\n",
    "\n",
    "\n",
    "def make_row_hash(row, subset_list=[]):\n",
    "    row_list = make_row_list(row, subset_list)\n",
    "    \n",
    "    temp = [\"\" if pds.isnull(e) else e for e in row_list] # replace NaNs with ''\n",
    "    temp = \"\".join(temp)\n",
    "#     print(\"row: \", temp)\n",
    "    if \"host-associatedmicrobialbacteriaunclassifiedunclassified\" == temp:\n",
    "        print(make_hash(temp))\n",
    "    return make_hash(temp)\n",
    "\n",
    "\n",
    "def make_parent_hash(row, subset_list=[]):\n",
    "    row_list = make_row_list(row, subset_list)\n",
    "    row_list = row_list[0:-1] # to get the parent, exclude last value in list\n",
    "\n",
    "    temp = [\"\" if pds.isnull(e) else e for e in row_list] # replace NaNs with ''\n",
    "    temp = \"\".join(temp)\n",
    "#     print(\"parent: \", temp)\n",
    "    return make_hash(temp)\n",
    "\n",
    "\n",
    "def make_hash(val):\n",
    "    if len(val) > 0:\n",
    "        hash = md5(val.encode('utf-8'))\n",
    "        return str(hash.hexdigest())\n",
    "    else:\n",
    "        return \"\"\n",
    "\n",
    "\n",
    "def make_iri(val, prefix=\"http://purl.obolibrary.org/obo/GOLD_\"):\n",
    "    if None != val and len(val) > 0:\n",
    "#         hash = make_hash(val)\n",
    "        return f\"{prefix}{val}\"\n",
    "    else:\n",
    "        return \"\"\n",
    "\n",
    "\n",
    "def make_annotation_dict(value_list, prefix=\"http://purl.obolibrary.org/obo/GOLD_\"):\n",
    "    annotation_dict = {}\n",
    "    for val in value_list:\n",
    "        val = str(val).lower().strip()\n",
    "        annotation_dict[val] = \\\n",
    "            {'iri': make_iri(str(val), prefix=prefix), 'label': val}\n",
    "    return annotation_dict\n",
    "\n",
    "\n",
    "def make_json_annotation(row, annotation_dict):\n",
    "    annotation_value_dict = {}\n",
    "    annotation_dict_keys = annotation_dict.keys()\n",
    "    for k,v in row.to_dict().items():\n",
    "        k = str(k).lower().strip()\n",
    "        if v != \"\" and (k in annotation_dict_keys):\n",
    "            annotation_value_dict[annotation_dict[k]['iri']] = v\n",
    "    return json.dumps(annotation_value_dict)"
   ]
  },
  {
   "cell_type": "code",
   "execution_count": 80,
   "metadata": {},
   "outputs": [
    {
     "name": "stdout",
     "output_type": "stream",
     "text": [
      "8933c51848ce54db789cba16bf6707ea\n"
     ]
    }
   ],
   "source": [
    "ontdf = pds.DataFrame(columns=['label_path', 'parent_label_path', 'iri', 'parent_iri', 'annotation'])\n",
    "annotation_dict = make_annotation_dict(gold_elevels)\n",
    "\n",
    "#gold_elevelsdf = gold_elevelsdf.head() # used for testing\n",
    "\n",
    "for i in range(len(gold_elevels)):\n",
    "    df = gold_elevelsdf[gold_elevels[0:i + 1]].fillna(\"\").drop_duplicates()\n",
    "    df['label_path'] = df.apply(lambda row: make_label_path(row), axis=1)\n",
    "    df['row_hash'] = df.apply(lambda row: make_row_hash(row, subset_list=gold_elevels), axis=1)\n",
    "    \n",
    "    df['parent_label_path'] = df.apply(lambda row: make_parent_label_path(row['label_path']), axis=1)\n",
    "    df['parent_hash'] = df.apply(lambda row: make_parent_hash(row, subset_list=gold_elevels), axis=1)\n",
    "    \n",
    "    df['iri'] = df.apply(lambda row: make_iri(row['row_hash']), axis=1)\n",
    "    df['parent_iri'] = df.apply(lambda row: make_iri(row['parent_hash']), axis=1)\n",
    "    \n",
    "    df['annotation'] = df.apply(lambda row: make_json_annotation(row, annotation_dict), axis=1)\n",
    "    ontdf = ontdf.append(df[['label_path', 'parent_label_path', 'iri', 'parent_iri', 'annotation']]).drop_duplicates()"
   ]
  },
  {
   "cell_type": "code",
   "execution_count": 78,
   "metadata": {},
   "outputs": [],
   "source": [
    "## visually examine output\n",
    "# pds.set_option('max_rows', None)\n",
    "# pds.set_option('display.max_colwidth', 1000)\n",
    "# print(ontdf[['label_path', 'parent_label_path']].head())\n",
    "# print(ontdf[['iri', 'parent_iri']].head())\n",
    "# print(ontdf[['label_path', 'parent_label_path', 'iri', 'parent_iri']].head())\n",
    "# print(ontdf[['annotation']].head())\n",
    "# print(len(ontdf))\n",
    "# ontdf[['label_path', 'parent_label_path', 'iri', 'parent_iri']].head()"
   ]
  },
  {
   "cell_type": "code",
   "execution_count": 10,
   "metadata": {},
   "outputs": [
    {
     "name": "stdout",
     "output_type": "stream",
     "text": [
      "Nuumber of rows: 1073\n",
      "Number of iris:  833\n"
     ]
    }
   ],
   "source": [
    "## check that number of unique iris matches the number of rows\n",
    "print(\"Nuumber of rows:\", len(ontdf))\n",
    "print(\"Number of iris: \", len(ontdf.iri.unique()))"
   ]
  },
  {
   "cell_type": "code",
   "execution_count": 11,
   "metadata": {},
   "outputs": [
    {
     "name": "stdout",
     "output_type": "stream",
     "text": [
      "Number of unique parent iris:  480\n",
      "Number of parent iris:  1073\n"
     ]
    }
   ],
   "source": [
    "## check the number of unique vs non-unique parent iris\n",
    "## there should be less unique ones; there is a one-to-many relation between parent iris and iris(i.e., parents have many children)\n",
    "print(\"Number of unique parent iris: \", len(ontdf.parent_iri.unique()))\n",
    "print(\"Number of parent iris: \", len(ontdf.parent_iri))"
   ]
  },
  {
   "cell_type": "code",
   "execution_count": 12,
   "metadata": {},
   "outputs": [
    {
     "name": "stdout",
     "output_type": "stream",
     "text": [
      "Number of non-empty iris:  832\n",
      "Number of non-empty label paths:  832\n",
      "Number of non-empty parent iris:  479\n",
      "Number of non-empty parent label paths:  399\n"
     ]
    }
   ],
   "source": [
    "## check that the number of non-empty lable paths matches the number of non-empty iris\n",
    "## there should be one less (see code below which returns one row of empty strings)\n",
    "print(\"Number of non-empty iris: \", len(ontdf[ontdf.iri != ''].iri.unique()))\n",
    "print(\"Number of non-empty label paths: \", len(ontdf[ontdf.label_path != ''].label_path.unique()))\n",
    "\n",
    "print(\"Number of non-empty parent iris: \", len(ontdf[ontdf.parent_iri != ''].parent_iri.unique()))\n",
    "print(\"Number of non-empty parent label paths: \", len(ontdf[ontdf.parent_label_path != ''].parent_label_path.unique()))"
   ]
  },
  {
   "cell_type": "code",
   "execution_count": 13,
   "metadata": {},
   "outputs": [
    {
     "name": "stdout",
     "output_type": "stream",
     "text": [
      "Number of matching iri/parent iri:  241\n"
     ]
    }
   ],
   "source": [
    "## only only records (show above) should have the same parent iri and iri value\n",
    "print(\"Number of matching iri/parent iri: \", len(ontdf[ontdf.iri == ontdf.parent_iri]))\n",
    "# ontdf[ontdf.iri == ontdf.parent_iri]"
   ]
  },
  {
   "cell_type": "code",
   "execution_count": 14,
   "metadata": {},
   "outputs": [
    {
     "data": {
      "text/html": [
       "<div>\n",
       "<style scoped>\n",
       "    .dataframe tbody tr th:only-of-type {\n",
       "        vertical-align: middle;\n",
       "    }\n",
       "\n",
       "    .dataframe tbody tr th {\n",
       "        vertical-align: top;\n",
       "    }\n",
       "\n",
       "    .dataframe thead th {\n",
       "        text-align: right;\n",
       "    }\n",
       "</style>\n",
       "<table border=\"1\" class=\"dataframe\">\n",
       "  <thead>\n",
       "    <tr style=\"text-align: right;\">\n",
       "      <th></th>\n",
       "      <th>label_path</th>\n",
       "      <th>parent_label_path</th>\n",
       "      <th>iri</th>\n",
       "      <th>parent_iri</th>\n",
       "      <th>annotation</th>\n",
       "    </tr>\n",
       "  </thead>\n",
       "  <tbody>\n",
       "    <tr>\n",
       "      <td>0</td>\n",
       "      <td>host-associated</td>\n",
       "      <td></td>\n",
       "      <td>http://purl.obolibrary.org/obo/GOLD_daf7fb2e82...</td>\n",
       "      <td></td>\n",
       "      <td>{\"http://purl.obolibrary.org/obo/GOLD_ecosyste...</td>\n",
       "    </tr>\n",
       "    <tr>\n",
       "      <td>1</td>\n",
       "      <td>engineered</td>\n",
       "      <td></td>\n",
       "      <td>http://purl.obolibrary.org/obo/GOLD_fee6b5a458...</td>\n",
       "      <td></td>\n",
       "      <td>{\"http://purl.obolibrary.org/obo/GOLD_ecosyste...</td>\n",
       "    </tr>\n",
       "    <tr>\n",
       "      <td>7</td>\n",
       "      <td>environmental</td>\n",
       "      <td></td>\n",
       "      <td>http://purl.obolibrary.org/obo/GOLD_3bbfdace1e...</td>\n",
       "      <td></td>\n",
       "      <td>{\"http://purl.obolibrary.org/obo/GOLD_ecosyste...</td>\n",
       "    </tr>\n",
       "    <tr>\n",
       "      <td>8786</td>\n",
       "      <td></td>\n",
       "      <td></td>\n",
       "      <td></td>\n",
       "      <td></td>\n",
       "      <td>{}</td>\n",
       "    </tr>\n",
       "  </tbody>\n",
       "</table>\n",
       "</div>"
      ],
      "text/plain": [
       "           label_path parent_label_path  \\\n",
       "0     host-associated                     \n",
       "1          engineered                     \n",
       "7       environmental                     \n",
       "8786                                      \n",
       "\n",
       "                                                    iri parent_iri  \\\n",
       "0     http://purl.obolibrary.org/obo/GOLD_daf7fb2e82...              \n",
       "1     http://purl.obolibrary.org/obo/GOLD_fee6b5a458...              \n",
       "7     http://purl.obolibrary.org/obo/GOLD_3bbfdace1e...              \n",
       "8786                                                                 \n",
       "\n",
       "                                             annotation  \n",
       "0     {\"http://purl.obolibrary.org/obo/GOLD_ecosyste...  \n",
       "1     {\"http://purl.obolibrary.org/obo/GOLD_ecosyste...  \n",
       "7     {\"http://purl.obolibrary.org/obo/GOLD_ecosyste...  \n",
       "8786                                                 {}  "
      ]
     },
     "execution_count": 14,
     "metadata": {},
     "output_type": "execute_result"
    }
   ],
   "source": [
    "## examine those records w/o a parent iri\n",
    "ontdf[ontdf.parent_iri == '']"
   ]
  },
  {
   "cell_type": "markdown",
   "metadata": {},
   "source": [
    "## Use rdflib to build ontology from dataframe"
   ]
  },
  {
   "cell_type": "code",
   "execution_count": 15,
   "metadata": {},
   "outputs": [],
   "source": [
    "g = Graph() # instantiate graph"
   ]
  },
  {
   "cell_type": "markdown",
   "metadata": {},
   "source": [
    "### Create annotaiton properties for each of the columns (saved in the annotation dictionary)"
   ]
  },
  {
   "cell_type": "code",
   "execution_count": 16,
   "metadata": {},
   "outputs": [],
   "source": [
    "for k, v in annotation_dict.items():\n",
    "    ## note: the value is a dict with keys 'iri' and 'label'\n",
    "    g.add((URIRef(v['iri']), RDF.type, OWL.AnnotationProperty))\n",
    "    g.add((URIRef(v['iri']), RDFS.label, Literal(v['label'])))"
   ]
  },
  {
   "cell_type": "markdown",
   "metadata": {},
   "source": [
    "### Add each row from the ontology dataframe to graph"
   ]
  },
  {
   "cell_type": "code",
   "execution_count": 17,
   "metadata": {},
   "outputs": [],
   "source": [
    "for (ix, label_path, parent_label_path, iri, parent_iri, annotation) in ontdf.itertuples(): # ontdf.head(100).itertuples():\n",
    "    if len(iri) > 0:\n",
    "        ## add iri to graph\n",
    "        g.add((URIRef(iri), RDF.type, OWL.Class))\n",
    "        g.add((URIRef(iri), RDFS.label, Literal(label_path)))\n",
    "        \n",
    "        ## add iri annotations to graph (note: annotation is a json string of form iri:value)\n",
    "        ann = json.loads(annotation)\n",
    "        for k, v in ann.items():\n",
    "            g.add((URIRef(iri), URIRef(k), Literal(v)))\n",
    "    \n",
    "    if len(parent_iri) > 0:\n",
    "        g.add((URIRef(iri), RDFS.subClassOf, URIRef(parent_iri))) # add parent iri to graph"
   ]
  },
  {
   "cell_type": "code",
   "execution_count": 18,
   "metadata": {},
   "outputs": [],
   "source": [
    "## save graph (note: different formatats (e.g., turtle) are possible)\n",
    "g.serialize(destination='output/gold-dataset-translation.owl', format='xml')"
   ]
  },
  {
   "cell_type": "code",
   "execution_count": 128,
   "metadata": {},
   "outputs": [
    {
     "name": "stdout",
     "output_type": "stream",
     "text": [
      "(rdflib.term.Literal('832', datatype=rdflib.term.URIRef('http://www.w3.org/2001/XMLSchema#integer')),)\n"
     ]
    }
   ],
   "source": [
    "for r in g.query(query): print(r)"
   ]
  },
  {
   "cell_type": "markdown",
   "metadata": {},
   "source": [
    "## Translate data into JSON-LD"
   ]
  },
  {
   "cell_type": "markdown",
   "metadata": {},
   "source": [
    "### Build JSON-LD context"
   ]
  },
  {
   "cell_type": "code",
   "execution_count": 87,
   "metadata": {},
   "outputs": [
    {
     "data": {
      "text/plain": [
       "{'id': '@id',\n",
       " 'type': '@type',\n",
       " 'rdf': 'http://www.w3.org/1999/02/22-rdf-syntax-ns#',\n",
       " 'rdfs': 'http://www.w3.org/2000/01/rdf-schema#',\n",
       " 'owl': 'http://www.w3.org/2002/07/owl#',\n",
       " 'label': 'rdfs:label',\n",
       " 'parent': 'rdfs:subClassOf',\n",
       " 'ecosystem': 'http://purl.obolibrary.org/obo/GOLD_ecosystem',\n",
       " 'ecosystem_category': 'http://purl.obolibrary.org/obo/GOLD_ecosystem_category',\n",
       " 'ecosystem_type': 'http://purl.obolibrary.org/obo/GOLD_ecosystem_type',\n",
       " 'ecosystem_subtype': 'http://purl.obolibrary.org/obo/GOLD_ecosystem_subtype',\n",
       " 'specific_ecosystem': 'http://purl.obolibrary.org/obo/GOLD_specific_ecosystem'}"
      ]
     },
     "execution_count": 87,
     "metadata": {},
     "output_type": "execute_result"
    }
   ],
   "source": [
    "context_dict = {\"id\": \"@id\", \n",
    "                \"type\": \"@type\",\n",
    "                \"rdf\": \"http://www.w3.org/1999/02/22-rdf-syntax-ns#\",\n",
    "                \"rdfs\": \"http://www.w3.org/2000/01/rdf-schema#\",\n",
    "                \"owl\": \"http://www.w3.org/2002/07/owl#\",\n",
    "                \"label\": \"rdfs:label\",\n",
    "                \"parent\": \"rdfs:subClassOf\"}\n",
    "for k, v in annotation_dict.items():\n",
    "    ## note: the value is a dict with keys 'iri' and 'label'\n",
    "    context_dict[v['label']] = v['iri']\n",
    "context_dict"
   ]
  },
  {
   "cell_type": "code",
   "execution_count": 134,
   "metadata": {},
   "outputs": [],
   "source": [
    "context_str = '\"@context\": ' + json.dumps(context_dict, indent=4)"
   ]
  },
  {
   "cell_type": "markdown",
   "metadata": {},
   "source": [
    "### Build class hierarchy in JSON-LD"
   ]
  },
  {
   "cell_type": "code",
   "execution_count": 135,
   "metadata": {},
   "outputs": [],
   "source": [
    "data_list = []\n",
    "for (ix, label_path, parent_label_path, iri, parent_iri, annotation) in ontdf.itertuples(): # ontdf.head(100).itertuples():\n",
    "    item_dict = {}\n",
    "    if len(iri) > 0:\n",
    "        ## add iri to graph\n",
    "        item_dict[\"id\"] = iri\n",
    "        item_dict[\"type\"] = \"owl:Class\"\n",
    "        item_dict[\"label\"] = label_path\n",
    "        \n",
    "        ## add iri annotations to graph (note: annotation is a json string of form iri:value)\n",
    "        ann = json.loads(annotation)\n",
    "        for ann_key, ann_val in ann.items():\n",
    "            for context_key, context_val in context_dict.items():\n",
    "                if context_val == ann_key: item_dict[context_key] = ann_val\n",
    "    \n",
    "    if len(parent_iri) > 0:\n",
    "        item_dict[\"parent\"] = parent_iri\n",
    "    \n",
    "    if len(item_dict) > 0:\n",
    "        data_list.append(json.dumps(item_dict, indent=4))"
   ]
  },
  {
   "cell_type": "code",
   "execution_count": 136,
   "metadata": {},
   "outputs": [],
   "source": [
    "# data_list"
   ]
  },
  {
   "cell_type": "code",
   "execution_count": 137,
   "metadata": {},
   "outputs": [],
   "source": [
    "data_str = '\"@graph\": [' + \", \\n \".join(data_list) +\"]\""
   ]
  },
  {
   "cell_type": "code",
   "execution_count": 144,
   "metadata": {},
   "outputs": [],
   "source": [
    "doc_str = \"{\\n\" + context_str + \", \\n\" + data_str + \"\\n}\""
   ]
  },
  {
   "cell_type": "code",
   "execution_count": 145,
   "metadata": {},
   "outputs": [],
   "source": [
    "# doc_str"
   ]
  },
  {
   "cell_type": "code",
   "execution_count": 146,
   "metadata": {},
   "outputs": [
    {
     "data": {
      "text/plain": [
       "<Graph identifier=Na5c5435c6255489fbf03b5883f6c4744 (<class 'rdflib.graph.Graph'>)>"
      ]
     },
     "execution_count": 146,
     "metadata": {},
     "output_type": "execute_result"
    }
   ],
   "source": [
    "gc = ConjunctiveGraph()\n",
    "gc.parse(data=doc_str, format=\"json-ld\")"
   ]
  },
  {
   "cell_type": "code",
   "execution_count": 147,
   "metadata": {},
   "outputs": [],
   "source": [
    "# gc.serialize(destination='output/temp.owl', format='json-ld')"
   ]
  },
  {
   "cell_type": "code",
   "execution_count": 148,
   "metadata": {},
   "outputs": [
    {
     "name": "stdout",
     "output_type": "stream",
     "text": [
      "(rdflib.term.Literal('832', datatype=rdflib.term.URIRef('http://www.w3.org/2001/XMLSchema#integer')),)\n"
     ]
    }
   ],
   "source": [
    "query = \"\"\"\n",
    "prefix owl: <http://www.w3.org/2002/07/owl#>\n",
    "\n",
    "select (count(?c) as ?count) \n",
    "where {?c a owl:Class}\n",
    "\"\"\"\n",
    "for r in gc.query(query): print(r)"
   ]
  },
  {
   "cell_type": "code",
   "execution_count": 149,
   "metadata": {},
   "outputs": [],
   "source": [
    "with open(\"output/temp.txt\", \"w\") as f:\n",
    "#     f.write(json.dumps(doc_str, indent=4))\n",
    "    f.write(doc_str)"
   ]
  },
  {
   "cell_type": "code",
   "execution_count": null,
   "metadata": {},
   "outputs": [],
   "source": []
  }
 ],
 "metadata": {
  "kernelspec": {
   "display_name": "Python 3",
   "language": "python",
   "name": "python3"
  },
  "language_info": {
   "codemirror_mode": {
    "name": "ipython",
    "version": 3
   },
   "file_extension": ".py",
   "mimetype": "text/x-python",
   "name": "python",
   "nbconvert_exporter": "python",
   "pygments_lexer": "ipython3",
   "version": "3.7.4"
  }
 },
 "nbformat": 4,
 "nbformat_minor": 4
}
