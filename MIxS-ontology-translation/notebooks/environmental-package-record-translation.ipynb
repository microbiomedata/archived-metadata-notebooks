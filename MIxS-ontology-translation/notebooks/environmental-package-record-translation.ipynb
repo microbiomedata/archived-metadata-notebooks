{
 "cells": [
  {
   "cell_type": "code",
   "execution_count": 2,
   "metadata": {},
   "outputs": [],
   "source": [
    "import pandas as pds\n",
    "import json\n",
    "from rdflib import Graph, RDFS, RDF, OWL, URIRef, Literal\n",
    "from hashlib import md5\n",
    "from pandasql import sqldf\n",
    "from uuid import uuid4\n",
    "\n",
    "def pysqldf(q):\n",
    "    return sqldf(q, globals())"
   ]
  },
  {
   "cell_type": "code",
   "execution_count": 4,
   "metadata": {},
   "outputs": [],
   "source": [
    "epdf = pds.read_excel(\"data/mixs_v5_local.xlsx\",sheet_name=\"environmental_packages\")\n",
    "# epdf.head()"
   ]
  },
  {
   "cell_type": "markdown",
   "metadata": {},
   "source": [
    "## Prep/clean dataframe\n",
    "* Trim spaces around column names\n",
    "* Replace spaces in column names with underscore\n",
    "* Make column names lower case\n",
    "* Replace NA data values with \"\""
   ]
  },
  {
   "cell_type": "code",
   "execution_count": 5,
   "metadata": {},
   "outputs": [],
   "source": [
    "## prep column names\n",
    "cleanded_columns = epdf.columns.str.strip() # trim spaces\n",
    "cleanded_columns = cleanded_columns.str.lower() # make lower case\n",
    "cleanded_columns = cleanded_columns.str.replace(\" \", \"_\") # replace space with _\n",
    "epdf.columns = cleanded_columns\n",
    "\n",
    "## replace NaN\n",
    "epdf.fillna(\"\", inplace=True)"
   ]
  },
  {
   "cell_type": "code",
   "execution_count": 7,
   "metadata": {},
   "outputs": [],
   "source": [
    "# epdf.columns"
   ]
  },
  {
   "cell_type": "markdown",
   "metadata": {},
   "source": [
    "## Make dictionary mapping column names iris"
   ]
  },
  {
   "cell_type": "code",
   "execution_count": 8,
   "metadata": {},
   "outputs": [],
   "source": [
    "col_to_iri = {}\n",
    "for c in cleanded_columns:\n",
    "    col_to_iri[c] = \"http://purl.obolibrary.org/obo/MIXS_\" + c\n",
    "# col_to_iri"
   ]
  },
  {
   "cell_type": "markdown",
   "metadata": {},
   "source": [
    "## Create column containing the iri for each record; the iri will be based on the MIXS ID column"
   ]
  },
  {
   "cell_type": "code",
   "execution_count": 9,
   "metadata": {},
   "outputs": [],
   "source": [
    "## helper function\n",
    "def make_mixs_record_iri(mixs_id, prefix=\"http://purl.obolibrary.org/obo/\"):\n",
    "    mixs_id = str(mixs_id).strip()\n",
    "    if len(mixs_id) > 0:\n",
    "        if mixs_id.find(\":\") > -1:\n",
    "            return prefix + mixs_id.replace(\":\", \"_\")\n",
    "        else:\n",
    "            return prefix + \"MIXS_\" + mixs_id\n",
    "    else:\n",
    "        return prefix + \"MIXS_\" + str(uuid4())\n",
    "    "
   ]
  },
  {
   "cell_type": "code",
   "execution_count": 12,
   "metadata": {},
   "outputs": [],
   "source": [
    "## add record_iri column\n",
    "epdf['record_iri'] = epdf.apply(lambda row: make_mixs_record_iri(row.mixs_id), axis=1)\n",
    "# epdf.head()"
   ]
  },
  {
   "cell_type": "markdown",
   "metadata": {},
   "source": [
    "## Create graph of MIxS records\n",
    "* add column headers as annotation properties\n",
    "* add rows as  instances of class 'MIxS record'"
   ]
  },
  {
   "cell_type": "code",
   "execution_count": 23,
   "metadata": {},
   "outputs": [],
   "source": [
    "g = Graph()"
   ]
  },
  {
   "cell_type": "code",
   "execution_count": 24,
   "metadata": {},
   "outputs": [],
   "source": [
    "## add column headers as annotations\n",
    "for c in cleanded_columns:\n",
    "    label = c.replace(\"_\", \" \")\n",
    "    iri = URIRef(col_to_iri[c])\n",
    "    g.add((iri, RDF.type, OWL.AnnotationProperty))\n",
    "    g.add ((iri, RDFS.label, Literal(label)))\n",
    "    "
   ]
  },
  {
   "cell_type": "code",
   "execution_count": 25,
   "metadata": {},
   "outputs": [],
   "source": [
    "## create MIxS record class\n",
    "record_class_iri = URIRef(\"http://purl.obolibrary.org/MIXS_environmental_package_record\")\n",
    "g.add((record_class_iri, RDF.type, OWL.Class))\n",
    "g.add((record_class_iri, RDFS.label, Literal(\"environmental package record\")))"
   ]
  },
  {
   "cell_type": "code",
   "execution_count": 26,
   "metadata": {},
   "outputs": [],
   "source": [
    "## add MIxS records to graph\n",
    "for ix, row in epdf.iterrows():\n",
    "    record_iri = URIRef(row.record_iri) # create iris and labels\n",
    "    label = f\"{row['package_item']} ({row['environmental_package']})\"\n",
    "    \n",
    "    g.add((record_iri, RDF.type, record_class_iri)) # add iri to graph\n",
    "    g.add((record_iri, RDFS.label, Literal(label)))\n",
    "    \n",
    "    for c in cleanded_columns: # add each column value as an annotation\n",
    "        annotation_value = str(row[c]).strip()\n",
    "        annotation_iri = URIRef(col_to_iri[c])\n",
    "        g.add((record_iri, annotation_iri, Literal(annotation_value)))"
   ]
  },
  {
   "cell_type": "code",
   "execution_count": 27,
   "metadata": {},
   "outputs": [],
   "source": [
    "## add ontology iri\n",
    "ontology_iri = URIRef(\"http://purl.obolibrary.org/obo/environmental-package-record-translation.owl\")\n",
    "g.add((ontology_iri, RDF.type, OWL.Ontology))"
   ]
  },
  {
   "cell_type": "code",
   "execution_count": 28,
   "metadata": {},
   "outputs": [],
   "source": [
    "## save graph (note: different formats (e.g., turtle) are possible)\n",
    "g.serialize(destination='output/environmental-package-record-translation.owl', format='xml')"
   ]
  },
  {
   "cell_type": "code",
   "execution_count": null,
   "metadata": {},
   "outputs": [],
   "source": []
  }
 ],
 "metadata": {
  "kernelspec": {
   "display_name": "Python 3",
   "language": "python",
   "name": "python3"
  },
  "language_info": {
   "codemirror_mode": {
    "name": "ipython",
    "version": 3
   },
   "file_extension": ".py",
   "mimetype": "text/x-python",
   "name": "python",
   "nbconvert_exporter": "python",
   "pygments_lexer": "ipython3",
   "version": "3.7.3"
  }
 },
 "nbformat": 4,
 "nbformat_minor": 2
}
