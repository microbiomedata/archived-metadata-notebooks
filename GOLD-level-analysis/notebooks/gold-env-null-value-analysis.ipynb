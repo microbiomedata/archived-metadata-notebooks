{
 "cells": [
  {
   "cell_type": "code",
   "execution_count": 1,
   "metadata": {},
   "outputs": [],
   "source": [
    "import pandas as pds\n",
    "import networkx as nx\n",
    "import seaborn as sns\n",
    "import matplotlib.pyplot as plt\n",
    "\n",
    "## function to execute SQL (SQLite compliant) over pandas dataframes\n",
    "from pandasql import sqldf\n",
    "pysqldf = lambda q: sqldf(q, globals()) \n",
    "\n",
    "## function for printing pandas tables as markdown\n",
    "from tabulate import tabulate\n",
    "def print_pandas_md(df):\n",
    "    print(tabulate(df, tablefmt=\"pipe\", headers=\"keys\"))"
   ]
  },
  {
   "cell_type": "code",
   "execution_count": 2,
   "metadata": {},
   "outputs": [
    {
     "name": "stderr",
     "output_type": "stream",
     "text": [
      "/usr/local/anaconda3/lib/python3.7/site-packages/IPython/core/interactiveshell.py:3049: DtypeWarning: Columns (13,14,16,18,19,23,26,27,28,29,30,34,35,36,37,39,41,42,43,44,45,52,57,62,70,72,73,76,77,78,79,86,98,99,100,103,104,105,106,111,119,124,133,134,135,142,144,146,149,165,191,208,229,233,252,253,254) have mixed types. Specify dtype option on import or set low_memory=False.\n",
      "  interactivity=interactivity, compiler=compiler, result=result)\n"
     ]
    }
   ],
   "source": [
    "all_data_df = pds.read_csv(\"Biosample_all.tsv.gz\", sep=\"\\t\")"
   ]
  },
  {
   "cell_type": "code",
   "execution_count": 3,
   "metadata": {},
   "outputs": [],
   "source": [
    "elevels = ['ECOSYSTEM', 'ECOSYSTEM_CATEGORY', 'ECOSYSTEM_TYPE', 'ECOSYSTEM_SUBTYPE', 'SPECIFIC_ECOSYSTEM']\n",
    "elevelsdf = all_data_df[elevels]"
   ]
  },
  {
   "cell_type": "markdown",
   "metadata": {},
   "source": [
    "## Look for null values in one of the levels that is followed by a non-null value"
   ]
  },
  {
   "cell_type": "markdown",
   "metadata": {},
   "source": [
    "### ECOSYSTEM is null"
   ]
  },
  {
   "cell_type": "code",
   "execution_count": 6,
   "metadata": {},
   "outputs": [
    {
     "data": {
      "text/html": [
       "<div>\n",
       "<style scoped>\n",
       "    .dataframe tbody tr th:only-of-type {\n",
       "        vertical-align: middle;\n",
       "    }\n",
       "\n",
       "    .dataframe tbody tr th {\n",
       "        vertical-align: top;\n",
       "    }\n",
       "\n",
       "    .dataframe thead th {\n",
       "        text-align: right;\n",
       "    }\n",
       "</style>\n",
       "<table border=\"1\" class=\"dataframe\">\n",
       "  <thead>\n",
       "    <tr style=\"text-align: right;\">\n",
       "      <th></th>\n",
       "      <th>ECOSYSTEM</th>\n",
       "      <th>ECOSYSTEM_CATEGORY</th>\n",
       "      <th>ECOSYSTEM_TYPE</th>\n",
       "      <th>ECOSYSTEM_SUBTYPE</th>\n",
       "      <th>SPECIFIC_ECOSYSTEM</th>\n",
       "    </tr>\n",
       "  </thead>\n",
       "  <tbody>\n",
       "    <tr>\n",
       "      <th>0</th>\n",
       "      <td>None</td>\n",
       "      <td>None</td>\n",
       "      <td>None</td>\n",
       "      <td>None</td>\n",
       "      <td>None</td>\n",
       "    </tr>\n",
       "  </tbody>\n",
       "</table>\n",
       "</div>"
      ],
      "text/plain": [
       "  ECOSYSTEM ECOSYSTEM_CATEGORY ECOSYSTEM_TYPE ECOSYSTEM_SUBTYPE  \\\n",
       "0      None               None           None              None   \n",
       "\n",
       "  SPECIFIC_ECOSYSTEM  \n",
       "0               None  "
      ]
     },
     "execution_count": 6,
     "metadata": {},
     "output_type": "execute_result"
    }
   ],
   "source": [
    "q = \"\"\"\n",
    "select distinct \n",
    "    ECOSYSTEM, ECOSYSTEM_CATEGORY, ECOSYSTEM_TYPE, ECOSYSTEM_SUBTYPE, SPECIFIC_ECOSYSTEM\n",
    "from\n",
    "    elevelsdf\n",
    "where\n",
    "    ECOSYSTEM is NULL\n",
    "\"\"\"\n",
    "sqldf(q)"
   ]
  },
  {
   "cell_type": "markdown",
   "metadata": {},
   "source": [
    "All columns are null, so no data to worry about modeling."
   ]
  },
  {
   "cell_type": "markdown",
   "metadata": {},
   "source": [
    "### ECOSYSTEM_CATEGORY is null"
   ]
  },
  {
   "cell_type": "code",
   "execution_count": 7,
   "metadata": {},
   "outputs": [
    {
     "data": {
      "text/html": [
       "<div>\n",
       "<style scoped>\n",
       "    .dataframe tbody tr th:only-of-type {\n",
       "        vertical-align: middle;\n",
       "    }\n",
       "\n",
       "    .dataframe tbody tr th {\n",
       "        vertical-align: top;\n",
       "    }\n",
       "\n",
       "    .dataframe thead th {\n",
       "        text-align: right;\n",
       "    }\n",
       "</style>\n",
       "<table border=\"1\" class=\"dataframe\">\n",
       "  <thead>\n",
       "    <tr style=\"text-align: right;\">\n",
       "      <th></th>\n",
       "      <th>ECOSYSTEM</th>\n",
       "      <th>ECOSYSTEM_CATEGORY</th>\n",
       "      <th>ECOSYSTEM_TYPE</th>\n",
       "      <th>ECOSYSTEM_SUBTYPE</th>\n",
       "      <th>SPECIFIC_ECOSYSTEM</th>\n",
       "    </tr>\n",
       "  </thead>\n",
       "  <tbody>\n",
       "    <tr>\n",
       "      <th>0</th>\n",
       "      <td>None</td>\n",
       "      <td>None</td>\n",
       "      <td>None</td>\n",
       "      <td>None</td>\n",
       "      <td>None</td>\n",
       "    </tr>\n",
       "  </tbody>\n",
       "</table>\n",
       "</div>"
      ],
      "text/plain": [
       "  ECOSYSTEM ECOSYSTEM_CATEGORY ECOSYSTEM_TYPE ECOSYSTEM_SUBTYPE  \\\n",
       "0      None               None           None              None   \n",
       "\n",
       "  SPECIFIC_ECOSYSTEM  \n",
       "0               None  "
      ]
     },
     "execution_count": 7,
     "metadata": {},
     "output_type": "execute_result"
    }
   ],
   "source": [
    "q = \"\"\"\n",
    "select distinct \n",
    "    ECOSYSTEM, ECOSYSTEM_CATEGORY, ECOSYSTEM_TYPE, ECOSYSTEM_SUBTYPE, SPECIFIC_ECOSYSTEM\n",
    "from\n",
    "    elevelsdf\n",
    "where\n",
    "    ECOSYSTEM_CATEGORY is NULL\n",
    "\"\"\"\n",
    "sqldf(q)"
   ]
  },
  {
   "cell_type": "markdown",
   "metadata": {},
   "source": [
    "All columns are null, so no data to worry about modeling."
   ]
  },
  {
   "cell_type": "markdown",
   "metadata": {},
   "source": [
    "### ECOSYSTEM_TYPE is null"
   ]
  },
  {
   "cell_type": "code",
   "execution_count": 8,
   "metadata": {},
   "outputs": [
    {
     "data": {
      "text/html": [
       "<div>\n",
       "<style scoped>\n",
       "    .dataframe tbody tr th:only-of-type {\n",
       "        vertical-align: middle;\n",
       "    }\n",
       "\n",
       "    .dataframe tbody tr th {\n",
       "        vertical-align: top;\n",
       "    }\n",
       "\n",
       "    .dataframe thead th {\n",
       "        text-align: right;\n",
       "    }\n",
       "</style>\n",
       "<table border=\"1\" class=\"dataframe\">\n",
       "  <thead>\n",
       "    <tr style=\"text-align: right;\">\n",
       "      <th></th>\n",
       "      <th>ECOSYSTEM</th>\n",
       "      <th>ECOSYSTEM_CATEGORY</th>\n",
       "      <th>ECOSYSTEM_TYPE</th>\n",
       "      <th>ECOSYSTEM_SUBTYPE</th>\n",
       "      <th>SPECIFIC_ECOSYSTEM</th>\n",
       "    </tr>\n",
       "  </thead>\n",
       "  <tbody>\n",
       "    <tr>\n",
       "      <th>0</th>\n",
       "      <td>None</td>\n",
       "      <td>None</td>\n",
       "      <td>None</td>\n",
       "      <td>None</td>\n",
       "      <td>None</td>\n",
       "    </tr>\n",
       "    <tr>\n",
       "      <th>1</th>\n",
       "      <td>Host-associated</td>\n",
       "      <td>Human</td>\n",
       "      <td>None</td>\n",
       "      <td>None</td>\n",
       "      <td>None</td>\n",
       "    </tr>\n",
       "    <tr>\n",
       "      <th>2</th>\n",
       "      <td>Host-associated</td>\n",
       "      <td>Fungi</td>\n",
       "      <td>None</td>\n",
       "      <td>None</td>\n",
       "      <td>None</td>\n",
       "    </tr>\n",
       "    <tr>\n",
       "      <th>3</th>\n",
       "      <td>Host-associated</td>\n",
       "      <td>Plants</td>\n",
       "      <td>None</td>\n",
       "      <td>None</td>\n",
       "      <td>None</td>\n",
       "    </tr>\n",
       "  </tbody>\n",
       "</table>\n",
       "</div>"
      ],
      "text/plain": [
       "         ECOSYSTEM ECOSYSTEM_CATEGORY ECOSYSTEM_TYPE ECOSYSTEM_SUBTYPE  \\\n",
       "0             None               None           None              None   \n",
       "1  Host-associated              Human           None              None   \n",
       "2  Host-associated              Fungi           None              None   \n",
       "3  Host-associated             Plants           None              None   \n",
       "\n",
       "  SPECIFIC_ECOSYSTEM  \n",
       "0               None  \n",
       "1               None  \n",
       "2               None  \n",
       "3               None  "
      ]
     },
     "execution_count": 8,
     "metadata": {},
     "output_type": "execute_result"
    }
   ],
   "source": [
    "q = \"\"\"\n",
    "select distinct \n",
    "    ECOSYSTEM, ECOSYSTEM_CATEGORY, ECOSYSTEM_TYPE, ECOSYSTEM_SUBTYPE, SPECIFIC_ECOSYSTEM\n",
    "from\n",
    "    elevelsdf\n",
    "where\n",
    "    ECOSYSTEM_TYPE is NULL\n",
    "\"\"\"\n",
    "sqldf(q)"
   ]
  },
  {
   "cell_type": "markdown",
   "metadata": {},
   "source": [
    "All values after ECOSYSTEM_TYPE are null, so no data to worry about modeling."
   ]
  },
  {
   "cell_type": "markdown",
   "metadata": {},
   "source": [
    "### ECOSYSTEM_SUBTYPE is null"
   ]
  },
  {
   "cell_type": "code",
   "execution_count": 10,
   "metadata": {},
   "outputs": [
    {
     "data": {
      "text/html": [
       "<div>\n",
       "<style scoped>\n",
       "    .dataframe tbody tr th:only-of-type {\n",
       "        vertical-align: middle;\n",
       "    }\n",
       "\n",
       "    .dataframe tbody tr th {\n",
       "        vertical-align: top;\n",
       "    }\n",
       "\n",
       "    .dataframe thead th {\n",
       "        text-align: right;\n",
       "    }\n",
       "</style>\n",
       "<table border=\"1\" class=\"dataframe\">\n",
       "  <thead>\n",
       "    <tr style=\"text-align: right;\">\n",
       "      <th></th>\n",
       "      <th>ECOSYSTEM</th>\n",
       "      <th>ECOSYSTEM_CATEGORY</th>\n",
       "      <th>ECOSYSTEM_TYPE</th>\n",
       "      <th>ECOSYSTEM_SUBTYPE</th>\n",
       "      <th>SPECIFIC_ECOSYSTEM</th>\n",
       "    </tr>\n",
       "  </thead>\n",
       "  <tbody>\n",
       "  </tbody>\n",
       "</table>\n",
       "</div>"
      ],
      "text/plain": [
       "Empty DataFrame\n",
       "Columns: [ECOSYSTEM, ECOSYSTEM_CATEGORY, ECOSYSTEM_TYPE, ECOSYSTEM_SUBTYPE, SPECIFIC_ECOSYSTEM]\n",
       "Index: []"
      ]
     },
     "execution_count": 10,
     "metadata": {},
     "output_type": "execute_result"
    }
   ],
   "source": [
    "q = \"\"\"\n",
    "select distinct \n",
    "    ECOSYSTEM, ECOSYSTEM_CATEGORY, ECOSYSTEM_TYPE, ECOSYSTEM_SUBTYPE, SPECIFIC_ECOSYSTEM\n",
    "from\n",
    "    elevelsdf\n",
    "where\n",
    "    ECOSYSTEM_SUBTYPE is NULL\n",
    "    and SPECIFIC_ECOSYSTEM is not NULL\n",
    "\"\"\"\n",
    "sqldf(q)"
   ]
  },
  {
   "cell_type": "markdown",
   "metadata": {},
   "source": [
    "No values exist where the ECOSYSTEM_TYPE is null, and the SPECIFIC_ECOSYSTEM is not null."
   ]
  },
  {
   "cell_type": "markdown",
   "metadata": {},
   "source": [
    "# Finding\n",
    "There are not any rows where one of the GOLD levels is null, and a value after it is not null"
   ]
  },
  {
   "cell_type": "code",
   "execution_count": null,
   "metadata": {},
   "outputs": [],
   "source": []
  }
 ],
 "metadata": {
  "kernelspec": {
   "display_name": "Python 3",
   "language": "python",
   "name": "python3"
  },
  "language_info": {
   "codemirror_mode": {
    "name": "ipython",
    "version": 3
   },
   "file_extension": ".py",
   "mimetype": "text/x-python",
   "name": "python",
   "nbconvert_exporter": "python",
   "pygments_lexer": "ipython3",
   "version": "3.7.3"
  }
 },
 "nbformat": 4,
 "nbformat_minor": 2
}
